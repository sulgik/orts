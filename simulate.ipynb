{
 "cells": [
  {
   "cell_type": "code",
   "execution_count": 1,
   "metadata": {},
   "outputs": [],
   "source": [
    "from logisticbandit import LogisticBandit"
   ]
  },
  {
   "cell_type": "code",
   "execution_count": 2,
   "metadata": {},
   "outputs": [
    {
     "data": {
      "text/plain": [
       "[{'A': 0.026723630989395227, 'B': 0.02934642048156776},\n",
       " {'A': 0.003702196758553525, 'B': 0.004075008717551336},\n",
       " {'A': 0.16866478870682008, 'B': 0.1826047082391551},\n",
       " {'A': 0.06945315965638049, 'B': 0.07594241335676698},\n",
       " {'A': 0.026723630989395227, 'B': 0.02934642048156776},\n",
       " {'A': 0.06945315965638049, 'B': 0.07594241335676698},\n",
       " {'A': 0.01, 'B': 0.011000000000000006}]"
      ]
     },
     "execution_count": 2,
     "metadata": {},
     "output_type": "execute_result"
    }
   ],
   "source": [
    "from simul.simulate import *\n",
    "\n",
    "p_list = {\"A\": .010, \"B\":.011}\n",
    "\n",
    "out = map(lambda x: add_fixed_effect(p_list, x), [1, -1, 3, 2, 1, 2, 0])\n",
    "p_list_seq = list(out)\n",
    "p_list_seq"
   ]
  },
  {
   "cell_type": "code",
   "execution_count": 3,
   "metadata": {},
   "outputs": [
    {
     "name": "stdout",
     "output_type": "stream",
     "text": [
      "50\n",
      "50\n",
      "50\n",
      "50\n",
      "33\n",
      "67\n",
      "18\n",
      "82\n",
      "38\n",
      "62\n",
      "32\n",
      "68\n",
      "45\n",
      "55\n",
      "50\n",
      "50\n",
      "28\n",
      "72\n",
      "36\n",
      "64\n",
      "87\n",
      "13\n",
      "51\n",
      "49\n",
      "49\n",
      "51\n",
      "50\n",
      "50\n"
     ]
    },
    {
     "data": {
      "text/plain": [
       "[([0.13113947460862663,\n",
       "   0.018640597949890533,\n",
       "   0.4600173445670551,\n",
       "   0.11680656660695674,\n",
       "   0.09966600070255623,\n",
       "   0.20765611841236753,\n",
       "   0.045000000000000276],\n",
       "  [{'A': [50, 2], 'B': [50, 2]},\n",
       "   {'A': [50, 0], 'B': [50, 1]},\n",
       "   {'A': [33, 3], 'B': [67, 10]},\n",
       "   {'A': [18, 3], 'B': [82, 8]},\n",
       "   {'A': [38, 0], 'B': [62, 1]},\n",
       "   {'A': [32, 2], 'B': [68, 2]},\n",
       "   {'A': [45, 1], 'B': [55, 1]}]),\n",
       " ([0.13113947460862663,\n",
       "   0.010438734851938698,\n",
       "   0.5018371031640602,\n",
       "   0.5645650719336243,\n",
       "   0.13376226410079914,\n",
       "   0.3179734313189378,\n",
       "   0.05000000000000031],\n",
       "  [{'A': [50, 1], 'B': [50, 2]},\n",
       "   {'A': [28, 0], 'B': [72, 0]},\n",
       "   {'A': [36, 9], 'B': [64, 11]},\n",
       "   {'A': [87, 4], 'B': [13, 1]},\n",
       "   {'A': [51, 0], 'B': [49, 1]},\n",
       "   {'A': [49, 3], 'B': [51, 3]},\n",
       "   {'A': [50, 1], 'B': [50, 0]}])]"
      ]
     },
     "execution_count": 3,
     "metadata": {},
     "output_type": "execute_result"
    }
   ],
   "source": [
    "out2 = run_seq_logistic(p_list_seq)\n",
    "list(out2)"
   ]
  },
  {
   "cell_type": "code",
   "execution_count": 12,
   "metadata": {},
   "outputs": [
    {
     "data": {
      "text/plain": [
       "[]"
      ]
     },
     "execution_count": 12,
     "metadata": {},
     "output_type": "execute_result"
    }
   ],
   "source": [
    "print(list(out))\n",
    "\n",
    "print(list(out)[0])\n",
    "\n",
    "# run_seq(list(out))\n",
    "list(out)[0]"
   ]
  },
  {
   "cell_type": "code",
   "execution_count": 3,
   "metadata": {},
   "outputs": [
    {
     "data": {
      "text/plain": [
       "{'A': 0.5, 'B': 0.5}"
      ]
     },
     "execution_count": 3,
     "metadata": {},
     "output_type": "execute_result"
    }
   ],
   "source": [
    "fullpar = LogisticBandit()\n",
    "fullpar.win_prop(action_list = [\"A\", \"B\"])\n",
    "\n"
   ]
  },
  {
   "cell_type": "code",
   "execution_count": 10,
   "metadata": {},
   "outputs": [
    {
     "data": {
      "text/plain": [
       "[]"
      ]
     },
     "execution_count": 10,
     "metadata": {},
     "output_type": "execute_result"
    }
   ],
   "source": [
    "list(out)\n",
    "#run_seq(p_list_seq = list(out))"
   ]
  },
  {
   "cell_type": "code",
   "execution_count": 4,
   "metadata": {},
   "outputs": [
    {
     "data": {
      "text/plain": [
       "{'A': 0.27791303529890043, 'B': 0.29706545424280584}"
      ]
     },
     "execution_count": 4,
     "metadata": {},
     "output_type": "execute_result"
    }
   ],
   "source": [
    "from simul.simulate import *\n",
    "\n",
    "[.3, .32] + []\n",
    "\n",
    "add_random_noise({\"A\": .3, \"B\":.32}, noise = .1)"
   ]
  },
  {
   "cell_type": "code",
   "execution_count": 6,
   "metadata": {},
   "outputs": [
    {
     "ename": "ImportError",
     "evalue": "cannot import name 'add_random_noise' from 'simulate' (/workspaces/orts/simulate.py)",
     "output_type": "error",
     "traceback": [
      "\u001b[0;31m---------------------------------------------------------------------------\u001b[0m",
      "\u001b[0;31mImportError\u001b[0m                               Traceback (most recent call last)",
      "\u001b[1;32m/workspaces/orts/simulate.ipynb Cell 4'\u001b[0m in \u001b[0;36m<cell line: 1>\u001b[0;34m()\u001b[0m\n\u001b[0;32m----> <a href='vscode-notebook-cell://codespaces%2Bsulgik-orts-x56v6pp5hv5p9/workspaces/orts/simulate.ipynb#ch0000003vscode-remote?line=0'>1</a>\u001b[0m \u001b[39mfrom\u001b[39;00m \u001b[39msimulate\u001b[39;00m \u001b[39mimport\u001b[39;00m add_random_noise\n",
      "\u001b[0;31mImportError\u001b[0m: cannot import name 'add_random_noise' from 'simulate' (/workspaces/orts/simulate.py)"
     ]
    }
   ],
   "source": [
    "from simulate import add_random_noise"
   ]
  },
  {
   "cell_type": "code",
   "execution_count": null,
   "metadata": {},
   "outputs": [],
   "source": []
  }
 ],
 "metadata": {
  "kernelspec": {
   "display_name": "Python 3.10.4 64-bit",
   "language": "python",
   "name": "python3"
  },
  "language_info": {
   "codemirror_mode": {
    "name": "ipython",
    "version": 3
   },
   "file_extension": ".py",
   "mimetype": "text/x-python",
   "name": "python",
   "nbconvert_exporter": "python",
   "pygments_lexer": "ipython3",
   "version": "3.10.4"
  },
  "orig_nbformat": 4,
  "vscode": {
   "interpreter": {
    "hash": "4f946df053fbf2b937619d3c5458e7af74262f9a954d8797ba0b27400bcafe06"
   }
  }
 },
 "nbformat": 4,
 "nbformat_minor": 2
}
