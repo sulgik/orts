{
 "cells": [
  {
   "cell_type": "code",
   "execution_count": 1,
   "metadata": {},
   "outputs": [],
   "source": [
    "from logisticbandit import LogisticBandit"
   ]
  },
  {
   "cell_type": "code",
   "execution_count": 2,
   "metadata": {},
   "outputs": [
    {
     "data": {
      "text/plain": [
       "[{'A': 0.12516099799833535, 'B': 0.12746252930756205},\n",
       " {'A': 0.03093513433046718, 'B': 0.03156650672676919},\n",
       " {'A': 0.12516099799833535, 'B': 0.12746252930756205},\n",
       " {'A': 0.03093513433046718, 'B': 0.03156650672676919},\n",
       " {'A': 0.12516099799833535, 'B': 0.12746252930756205},\n",
       " {'A': 0.07280096915005271, 'B': 0.07422136076553607},\n",
       " {'A': 0.05000000000000002, 'B': 0.05099999999999998}]"
      ]
     },
     "execution_count": 2,
     "metadata": {},
     "output_type": "execute_result"
    }
   ],
   "source": [
    "from simul.simulate import *\n",
    "\n",
    "p_list = {\"A\": .050, \"B\":.051}\n",
    "\n",
    "out = map(lambda x: add_fixed_effect(p_list, x), [1, -.5, 1, -.5, 1, .4, 0])\n",
    "p_list_seq = list(out)\n",
    "p_list_seq"
   ]
  },
  {
   "cell_type": "code",
   "execution_count": 5,
   "metadata": {},
   "outputs": [
    {
     "data": {
      "text/plain": [
       "[([1.1507656546133478,\n",
       "   0.31694894294360737,\n",
       "   0.9919599942767057,\n",
       "   0.3131607085657953,\n",
       "   0.5914935464712607,\n",
       "   0.1974344345521859,\n",
       "   0.11399999999999615],\n",
       "  [{'A': [500, 66], 'B': [500, 66]},\n",
       "   {'A': [502, 16], 'B': [498, 18]},\n",
       "   {'A': [431, 54], 'B': [569, 69]},\n",
       "   {'A': [496, 11], 'B': [504, 22]},\n",
       "   {'A': [257, 26], 'B': [743, 94]},\n",
       "   {'A': [139, 10], 'B': [861, 75]},\n",
       "   {'A': [114, 8], 'B': [886, 45]}]),\n",
       " ([1.1507656546133478,\n",
       "   0.5057292894379073,\n",
       "   0.22094700568576275,\n",
       "   0.0,\n",
       "   0.5983981403989408,\n",
       "   0.6718452341236254,\n",
       "   0.4469999999999849],\n",
       "  [{'A': [500, 69], 'B': [500, 60]},\n",
       "   {'A': [801, 25], 'B': [199, 4]},\n",
       "   {'A': [96, 15], 'B': [904, 125]},\n",
       "   {'A': [0, 0], 'B': [1000, 35]},\n",
       "   {'A': [260, 45], 'B': [740, 95]},\n",
       "   {'A': [473, 36], 'B': [527, 35]},\n",
       "   {'A': [447, 17], 'B': [553, 29]}])]"
      ]
     },
     "execution_count": 5,
     "metadata": {},
     "output_type": "execute_result"
    }
   ],
   "source": [
    "out2 = run_seq_logistic(p_list_seq, N = 1000)\n",
    "list(out2)"
   ]
  },
  {
   "cell_type": "code",
   "execution_count": 12,
   "metadata": {},
   "outputs": [
    {
     "data": {
      "text/plain": [
       "[]"
      ]
     },
     "execution_count": 12,
     "metadata": {},
     "output_type": "execute_result"
    }
   ],
   "source": [
    "print(list(out))\n",
    "\n",
    "print(list(out)[0])\n",
    "\n",
    "# run_seq(list(out))\n",
    "list(out)[0]"
   ]
  },
  {
   "cell_type": "code",
   "execution_count": 3,
   "metadata": {},
   "outputs": [
    {
     "data": {
      "text/plain": [
       "{'A': 0.5, 'B': 0.5}"
      ]
     },
     "execution_count": 3,
     "metadata": {},
     "output_type": "execute_result"
    }
   ],
   "source": [
    "fullpar = LogisticBandit()\n",
    "fullpar.win_prop(action_list = [\"A\", \"B\"])\n",
    "\n"
   ]
  },
  {
   "cell_type": "code",
   "execution_count": 10,
   "metadata": {},
   "outputs": [
    {
     "data": {
      "text/plain": [
       "[]"
      ]
     },
     "execution_count": 10,
     "metadata": {},
     "output_type": "execute_result"
    }
   ],
   "source": [
    "list(out)\n",
    "#run_seq(p_list_seq = list(out))"
   ]
  },
  {
   "cell_type": "code",
   "execution_count": 4,
   "metadata": {},
   "outputs": [
    {
     "data": {
      "text/plain": [
       "{'A': 0.27791303529890043, 'B': 0.29706545424280584}"
      ]
     },
     "execution_count": 4,
     "metadata": {},
     "output_type": "execute_result"
    }
   ],
   "source": [
    "from simul.simulate import *\n",
    "\n",
    "[.3, .32] + []\n",
    "\n",
    "add_random_noise({\"A\": .3, \"B\":.32}, noise = .1)"
   ]
  },
  {
   "cell_type": "code",
   "execution_count": 6,
   "metadata": {},
   "outputs": [
    {
     "ename": "ImportError",
     "evalue": "cannot import name 'add_random_noise' from 'simulate' (/workspaces/orts/simulate.py)",
     "output_type": "error",
     "traceback": [
      "\u001b[0;31m---------------------------------------------------------------------------\u001b[0m",
      "\u001b[0;31mImportError\u001b[0m                               Traceback (most recent call last)",
      "\u001b[1;32m/workspaces/orts/simulate.ipynb Cell 4'\u001b[0m in \u001b[0;36m<cell line: 1>\u001b[0;34m()\u001b[0m\n\u001b[0;32m----> <a href='vscode-notebook-cell://codespaces%2Bsulgik-orts-x56v6pp5hv5p9/workspaces/orts/simulate.ipynb#ch0000003vscode-remote?line=0'>1</a>\u001b[0m \u001b[39mfrom\u001b[39;00m \u001b[39msimulate\u001b[39;00m \u001b[39mimport\u001b[39;00m add_random_noise\n",
      "\u001b[0;31mImportError\u001b[0m: cannot import name 'add_random_noise' from 'simulate' (/workspaces/orts/simulate.py)"
     ]
    }
   ],
   "source": [
    "from simulate import add_random_noise"
   ]
  },
  {
   "cell_type": "code",
   "execution_count": null,
   "metadata": {},
   "outputs": [],
   "source": []
  }
 ],
 "metadata": {
  "kernelspec": {
   "display_name": "Python 3.10.4 64-bit",
   "language": "python",
   "name": "python3"
  },
  "language_info": {
   "codemirror_mode": {
    "name": "ipython",
    "version": 3
   },
   "file_extension": ".py",
   "mimetype": "text/x-python",
   "name": "python",
   "nbconvert_exporter": "python",
   "pygments_lexer": "ipython3",
   "version": "3.10.4"
  },
  "orig_nbformat": 4,
  "vscode": {
   "interpreter": {
    "hash": "4f946df053fbf2b937619d3c5458e7af74262f9a954d8797ba0b27400bcafe06"
   }
  }
 },
 "nbformat": 4,
 "nbformat_minor": 2
}
